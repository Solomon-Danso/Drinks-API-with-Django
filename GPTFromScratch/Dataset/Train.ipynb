{
 "cells": [
  {
   "cell_type": "code",
   "execution_count": 12,
   "metadata": {},
   "outputs": [],
   "source": [
    "with open(\"input.txt\", \"r\", encoding=\"utf-8\") as f:\n",
    "   text = f.read()"
   ]
  },
  {
   "cell_type": "code",
   "execution_count": 14,
   "metadata": {},
   "outputs": [
    {
     "name": "stdout",
     "output_type": "stream",
     "text": [
      "Length Of Dataset  1115424\n"
     ]
    }
   ],
   "source": [
    "print(\"Length Of Dataset \", len(text))"
   ]
  },
  {
   "cell_type": "code",
   "execution_count": 15,
   "metadata": {},
   "outputs": [
    {
     "name": "stdout",
     "output_type": "stream",
     "text": [
      "\n",
      " !\"#$%&'()*+,-./3:;=?@ABCDEFGHIJKLMNOPQRSTUVWXYZ[\\]^_abcdefghijklmnopqrstuvwxyz{|}\n",
      "83\n"
     ]
    }
   ],
   "source": [
    "chars = sorted(list(set(text)))\n",
    "vocab_size = len(chars)\n",
    "print(\"\".join(chars))\n",
    "print(vocab_size)"
   ]
  },
  {
   "cell_type": "code",
   "execution_count": 20,
   "metadata": {},
   "outputs": [
    {
     "name": "stdout",
     "output_type": "stream",
     "text": [
      "Encoded Message:  [30, 78, 57, 68, 73, 1, 42, 58, 56, 61, 1, 31, 72, 1, 24, 54, 56, 64]\n",
      "Decoded Message  Hydot Tech Is Back\n"
     ]
    }
   ],
   "source": [
    "# Tokenization \n",
    "stoi = {}\n",
    "for index, character in enumerate(chars):\n",
    "    stoi[character] = index\n",
    "\n",
    "# Step 3: Create a dictionary to map each number back to a character\n",
    "itos = {}\n",
    "for index, character in enumerate(chars):\n",
    "    itos[index] = character\n",
    "\n",
    "# Step 4: Define the encoder function\n",
    "def encode(s):\n",
    "    result = []  # Empty list to store the indices\n",
    "    for c in s:  # Loop through each character in the string\n",
    "        result.append(stoi[c])  # Add the corresponding index to the list\n",
    "    return result\n",
    "\n",
    "# Step 4: Define the decoder function using a loop\n",
    "def decode(l):\n",
    "    result = \"\"  # Empty string to store the decoded characters\n",
    "    for i in l:  # Loop through each index in the list\n",
    "        result += itos[i]  # Add the corresponding character to the string\n",
    "    return result\n",
    "\n",
    "\n",
    "# The encode and decode process is just finding the index in chars, basically !\"#$%&'()*+,-./3:;=?@ABCDEFGHIJKLMNOPQRSTUVWXYZ[\\]^_abcdefghijklmnopqrstuvwxyz{|}\n",
    "\n",
    "msg = \"Hydot Tech Is Back\"\n",
    "msgIndex = encode(msg)\n",
    "print(\"Encoded Message: \",msgIndex)\n",
    "\n",
    "theMsgIndex = msgIndex\n",
    "theDecodeMsg = decode(theMsgIndex)\n",
    "print(\"Decoded Message \",theDecodeMsg)\n",
    "\n"
   ]
  },
  {
   "cell_type": "code",
   "execution_count": 21,
   "metadata": {},
   "outputs": [
    {
     "name": "stdout",
     "output_type": "stream",
     "text": [
      "torch.Size([1115424]) torch.int64\n",
      "tensor([ 2, 22,  4,  5,  6, 52,  7, 11,  9, 10, 53, 12, 14, 20, 80, 82, 49, 51,\n",
      "        81, 50,  3,  8, 18, 19, 13, 15, 21, 16,  0,  0, 28, 62, 71, 72, 73,  1,\n",
      "        25, 62, 73, 62, 79, 58, 67, 18,  0, 24, 58, 59, 68, 71, 58,  1, 76, 58,\n",
      "         1, 69, 71, 68, 56, 58, 58, 57,  1, 54, 67, 78,  1, 59, 74, 71, 73, 61,\n",
      "        58, 71, 13,  1, 61, 58, 54, 71,  1, 66, 58,  1, 72, 69, 58, 54, 64, 15,\n",
      "         0,  0, 23, 65, 65, 18,  0, 41, 69, 58, 54, 64, 13,  1, 72, 69, 58, 54,\n",
      "        64, 15,  0,  0, 28, 62, 71, 72, 73,  1, 25, 62, 73, 62, 79, 58, 67, 18,\n",
      "         0, 47, 68, 74,  1, 54, 71, 58,  1, 54, 65, 65,  1, 71, 58, 72, 68, 65,\n",
      "        75, 58, 57,  1, 71, 54, 73, 61, 58, 71,  1, 73, 68,  1, 57, 62, 58,  1,\n",
      "        73, 61, 54, 67,  1, 73, 68,  1, 59, 54, 66, 62, 72, 61, 21,  0,  0, 23,\n",
      "        65, 65, 18,  0, 40, 58, 72, 68, 65, 75, 58, 57, 15,  1, 71, 58, 72, 68,\n",
      "        65, 75, 58, 57, 15,  0,  0, 28, 62, 71, 72, 73,  1, 25, 62, 73, 62, 79,\n",
      "        58, 67, 18,  0, 28, 62, 71, 72, 73, 13,  1, 78, 68, 74,  1, 64, 67, 68,\n",
      "        76,  1, 25, 54, 62, 74, 72,  1, 35, 54, 71, 56, 62, 74, 72,  1, 62, 72,\n",
      "         1, 56, 61, 62, 58, 59,  1, 58, 67, 58, 66, 78,  1, 73, 68,  1, 73, 61,\n",
      "        58,  1, 69, 58, 68, 69, 65, 58, 15,  0,  0, 23, 65, 65, 18,  0, 45, 58,\n",
      "         1, 64, 67, 68, 76,  8, 73, 13,  1, 76, 58,  1, 64, 67, 68, 76,  8, 73,\n",
      "        15,  0,  0, 28, 62, 71, 72, 73,  1, 25, 62, 73, 62, 79, 58, 67, 18,  0,\n",
      "        34, 58, 73,  1, 74, 72,  1, 64, 62, 65, 65,  1, 61, 62, 66, 13,  1, 54,\n",
      "        67, 57,  1, 76, 58,  8, 65, 65,  1, 61, 54, 75, 58,  1, 56, 68, 71, 67,\n",
      "         1, 54, 73,  1, 68, 74, 71,  1, 68, 76, 67,  1, 69, 71, 62, 56, 58, 15,\n",
      "         0, 31, 72,  8, 73,  1, 54,  1, 75, 58, 71, 57, 62, 56, 73, 21,  0,  0,\n",
      "        23, 65, 65, 18,  0, 36, 68,  1, 66, 68, 71, 58,  1, 73, 54, 65, 64, 62,\n",
      "        67, 60,  1, 68, 67,  8, 73, 19,  1, 65, 58, 73,  1, 62, 73,  1, 55, 58,\n",
      "         1, 57, 68, 67, 58, 18,  1, 54, 76, 54, 78, 13,  1, 54, 76, 54, 78,  2,\n",
      "         0,  0, 41, 58, 56, 68, 67, 57,  1, 25, 62, 73, 62, 79, 58, 67, 18,  0,\n",
      "        37, 67, 58,  1, 76, 68, 71, 57, 13,  1, 60, 68, 68, 57,  1, 56, 62, 73,\n",
      "        62, 79, 58, 67, 72, 15,  0,  0, 28, 62, 71, 72, 73,  1, 25, 62, 73, 62,\n",
      "        79, 58, 67, 18,  0, 45, 58,  1, 54, 71, 58,  1, 54, 56, 56, 68, 74, 67,\n",
      "        73, 58, 57,  1, 69, 68, 68, 71,  1, 56, 62, 73, 62, 79, 58, 67, 72, 13,\n",
      "         1, 73, 61, 58,  1, 69, 54, 73, 71, 62, 56, 62, 54, 67, 72,  1, 60, 68,\n",
      "        68, 57, 15,  0, 45, 61, 54, 73,  1, 54, 74, 73, 61, 68, 71, 62, 73, 78,\n",
      "         1, 72, 74, 71, 59, 58, 62, 73, 72,  1, 68, 67,  1, 76, 68, 74, 65, 57,\n",
      "         1, 71, 58, 65, 62, 58, 75, 58,  1, 74, 72, 18,  1, 62, 59,  1, 73, 61,\n",
      "        58, 78,  0, 76, 68, 74, 65, 57,  1, 78, 62, 58, 65, 57,  1, 74, 72,  1,\n",
      "        55, 74, 73,  1, 73, 61, 58,  1, 72, 74, 69, 58, 71, 59, 65, 74, 62, 73,\n",
      "        78, 13,  1, 76, 61, 62, 65, 58,  1, 62, 73,  1, 76, 58, 71, 58,  0, 76,\n",
      "        61, 68, 65, 58, 72, 68, 66, 58, 13,  1, 76, 58,  1, 66, 62, 60, 61, 73,\n",
      "         1, 60, 74, 58, 72, 72,  1, 73, 61, 58, 78,  1, 71, 58, 65, 62, 58, 75,\n",
      "        58, 57,  1, 74, 72,  1, 61, 74, 66, 54, 67, 58, 65, 78, 19,  0, 55, 74,\n",
      "        73,  1, 73, 61, 58, 78,  1, 73, 61, 62, 67, 64,  1, 76, 58,  1, 54, 71,\n",
      "        58,  1, 73, 68, 68,  1, 57, 58, 54, 71, 18,  1, 73, 61, 58,  1, 65, 58,\n",
      "        54, 67, 67, 58, 72, 72,  1, 73, 61, 54, 73,  0, 54, 59, 59, 65, 62, 56,\n",
      "        73, 72,  1, 74, 72, 13,  1, 73, 61, 58,  1, 68, 55, 63, 58, 56, 73,  1,\n",
      "        68, 59,  1, 68, 74, 71,  1, 66, 62, 72, 58, 71, 78, 13,  1, 62, 72,  1,\n",
      "        54, 72,  1, 54, 67,  0, 62, 67, 75, 58, 67, 73, 68, 71, 78,  1, 73, 68,\n",
      "         1, 69, 54, 71, 73, 62, 56, 74, 65, 54, 71, 62, 72, 58,  1, 73, 61, 58,\n",
      "        62, 71,  1, 54, 55, 74, 67, 57, 54, 67, 56, 58, 19,  1, 68, 74, 71,  0,\n",
      "        72, 74, 59, 59, 58, 71, 54, 67, 56, 58,  1, 62, 72,  1, 54,  1, 60, 54,\n",
      "        62, 67,  1, 73, 68,  1, 73, 61, 58, 66,  1, 34, 58, 73,  1, 74, 72,  1,\n",
      "        71, 58, 75, 58, 67, 60, 58,  1, 73, 61, 62, 72,  1, 76, 62, 73, 61,  0,\n",
      "        68, 74, 71,  1, 69, 62, 64, 58, 72, 13,  1, 58, 71, 58,  1, 76, 58,  1,\n",
      "        55, 58, 56, 68, 66, 58,  1, 71, 54, 64, 58, 72, 18,  1, 59, 68, 71,  1,\n",
      "        73, 61, 58,  1, 60, 68, 57, 72,  1, 64, 67, 68, 76,  1, 31,  0, 72, 69,\n",
      "        58, 54, 64,  1, 73, 61, 62, 72,  1, 62, 67,  1, 61, 74, 67, 60, 58, 71,\n",
      "         1, 59, 68, 71,  1, 55, 71, 58, 54, 57])\n"
     ]
    }
   ],
   "source": [
    "# Encoding the Entire Datasets \n",
    "\n",
    "import torch # we use PyTorch: https://pytorch.org\n",
    "data = torch.tensor(encode(text), dtype=torch.long)\n",
    "print(data.shape, data.dtype)\n",
    "print(data[:1000]) # the 1000 characters we looked at earier will to the GPT look like this\n",
    "\n"
   ]
  }
 ],
 "metadata": {
  "kernelspec": {
   "display_name": "Python 3",
   "language": "python",
   "name": "python3"
  },
  "language_info": {
   "codemirror_mode": {
    "name": "ipython",
    "version": 3
   },
   "file_extension": ".py",
   "mimetype": "text/x-python",
   "name": "python",
   "nbconvert_exporter": "python",
   "pygments_lexer": "ipython3",
   "version": "3.12.8"
  }
 },
 "nbformat": 4,
 "nbformat_minor": 2
}
